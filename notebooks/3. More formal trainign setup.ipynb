{
 "cells": [
  {
   "cell_type": "code",
   "execution_count": 2,
   "metadata": {},
   "outputs": [],
   "source": [
    "from itertools import chain\n",
    "import torch\n",
    "from torch.utils.data import Dataset, DataLoader\n",
    "import torch.nn as nn\n",
    "import math\n",
    "from typing import List, Tuple, Dict, Optional\n",
    "from torch.utils.tensorboard import SummaryWriter\n",
    "\n",
    "import base64\n",
    "import requests\n",
    "import os\n",
    "\n",
    "from pathlib import Path"
   ]
  },
  {
   "cell_type": "markdown",
   "metadata": {},
   "source": [
    "## Hyper-Parameters"
   ]
  },
  {
   "cell_type": "code",
   "execution_count": 3,
   "metadata": {},
   "outputs": [],
   "source": [
    "GH_TOKEN = \"\"\n",
    "\n",
    "MODEL_NAME = \"TestV1\"\n",
    "EPOCHS = 10\n",
    "\n",
    "\n",
    "FILE_NAME = \"spa\"\n",
    "BATCH_SIZE = 32\n",
    "LAYERS = 3\n",
    "EMB_SIZE = 256\n",
    "HEADS = 8"
   ]
  },
  {
   "cell_type": "markdown",
   "metadata": {},
   "source": [
    "## Get Environment variables"
   ]
  },
  {
   "cell_type": "code",
   "execution_count": 4,
   "metadata": {},
   "outputs": [],
   "source": [
    "def is_running_in_colab():\n",
    "    try:\n",
    "        import google.colab\n",
    "        return True\n",
    "    except ImportError:\n",
    "        return False\n",
    "\n",
    "IS_COLAB = is_running_in_colab()"
   ]
  },
  {
   "cell_type": "code",
   "execution_count": 5,
   "metadata": {},
   "outputs": [],
   "source": [
    "DEVICE = 'cuda' if IS_COLAB else 'cpu'"
   ]
  },
  {
   "cell_type": "markdown",
   "metadata": {},
   "source": [
    "## Data file"
   ]
  },
  {
   "cell_type": "code",
   "execution_count": 6,
   "metadata": {},
   "outputs": [],
   "source": [
    "def get_text_path(file_name: str):\n",
    "    if IS_COLAB:\n",
    "        url = f\"https://raw.githubusercontent.com/WillCable97/HomemadeTransformer/main/data/raw/{file_name}.txt\"\n",
    "        !wget {url}\n",
    "        return f\"./{file_name}.txt\"\n",
    "    else:\n",
    "        from homemadetransformer.config import DATA_DIR\n",
    "        return DATA_DIR / \"raw\" / f\"{file_name}.txt\""
   ]
  },
  {
   "cell_type": "markdown",
   "metadata": {
    "id": "4Nm2z5GjcZ5L"
   },
   "source": [
    "## Simple Word Tokenizer"
   ]
  },
  {
   "cell_type": "code",
   "execution_count": 7,
   "metadata": {},
   "outputs": [],
   "source": [
    "class SimpleWordTokenizer:\n",
    "    \"\"\"Simple word-based tokenizer that splits on whitespace.\"\"\"\n",
    "    \n",
    "    def __init__(self, sos_token=\"<SOS>\", eos_token=\"<EOS>\", pad_token=\"<PAD>\", unk_token=\"<UNK>\"):\n",
    "        self.sos_token = sos_token\n",
    "        self.eos_token = eos_token\n",
    "        self.pad_token = pad_token\n",
    "        self.unk_token = unk_token\n",
    "        \n",
    "    def tokenize(self, text: str) -> List[str]:\n",
    "        \"\"\"Tokenize text by splitting on whitespace.\"\"\"\n",
    "        return text.lower().strip().split()\n",
    "    \n",
    "    def add_special_tokens(self, tokens: List[str]) -> List[str]:\n",
    "        \"\"\"Add SOS and EOS tokens to a sequence.\"\"\"\n",
    "        return [self.sos_token] + tokens + [self.eos_token]\n"
   ]
  },
  {
   "cell_type": "markdown",
   "metadata": {},
   "source": [
    "## Preprocessor"
   ]
  },
  {
   "cell_type": "code",
   "execution_count": 8,
   "metadata": {},
   "outputs": [],
   "source": [
    "class TranslationPreprocessor:\n",
    "    \"\"\"Preprocessor for translation datasets with configurable tokenization.\"\"\"\n",
    "    \n",
    "    def __init__(self, \n",
    "                 src_tokenizer=None, \n",
    "                 tgt_tokenizer=None,\n",
    "                 max_src_len: Optional[int] = None,\n",
    "                 max_tgt_len: Optional[int] = None):\n",
    "        \"\"\"\n",
    "        Initialize the preprocessor.\n",
    "        \n",
    "        Args:\n",
    "            src_tokenizer: Tokenizer for source language (defaults to SimpleWordTokenizer)\n",
    "            tgt_tokenizer: Tokenizer for target language (defaults to SimpleWordTokenizer)\n",
    "            src_lang: Source language code\n",
    "            tgt_lang: Target language code\n",
    "            max_src_len: Maximum source sequence length (None for auto)\n",
    "            max_tgt_len: Maximum target sequence length (None for auto)\n",
    "        \"\"\"\n",
    "        self.src_tokenizer = src_tokenizer or SimpleWordTokenizer()\n",
    "        self.tgt_tokenizer = tgt_tokenizer or SimpleWordTokenizer()\n",
    "        self.max_src_len = max_src_len\n",
    "        self.max_tgt_len = max_tgt_len\n",
    "        \n",
    "        # Vocabulary mappings\n",
    "        self.src_vocab = {}\n",
    "        self.tgt_vocab = {}\n",
    "        self.src_vocab_to_idx = {}\n",
    "        self.tgt_vocab_to_idx = {}\n",
    "        self.src_idx_to_vocab = {}\n",
    "        self.tgt_idx_to_vocab = {}\n",
    "        \n",
    "        # Statistics\n",
    "        self.src_vocab_size = 0\n",
    "        self.tgt_vocab_size = 0\n",
    "        self.max_src_len_actual = 0\n",
    "        self.max_tgt_len_actual = 0\n",
    "        \n",
    "    def clean_translation_pair(self, line: str) -> Optional[Tuple[str, str]]:\n",
    "        \"\"\"Clean a translation pair from the dataset.\"\"\"\n",
    "        parts = line.strip().split(\"\\t\")\n",
    "        \n",
    "        if len(parts) < 2:\n",
    "            return None\n",
    "            \n",
    "        src_text = parts[0].strip()\n",
    "        tgt_text = parts[1].strip().split(\"CC-BY\")[0].strip()  # Remove attribution text\n",
    "        \n",
    "        return src_text, tgt_text\n",
    "    \n",
    "    def build_vocabularies(self, src_sentences: List[str], tgt_sentences: List[str]):\n",
    "        \"\"\"Build vocabulary mappings from tokenized sentences.\"\"\"\n",
    "        # Tokenize all sentences\n",
    "        src_tokenized = [self.src_tokenizer.add_special_tokens(self.src_tokenizer.tokenize(sent)) \n",
    "                        for sent in src_sentences]\n",
    "        tgt_tokenized = [self.tgt_tokenizer.add_special_tokens(self.tgt_tokenizer.tokenize(sent)) \n",
    "                        for sent in tgt_sentences]\n",
    "        \n",
    "        # Build source vocabulary\n",
    "        src_vocab = set(chain.from_iterable(src_tokenized))\n",
    "        self.src_vocab_to_idx = {word: i for i, word in enumerate(src_vocab)}\n",
    "        self.src_idx_to_vocab = {i: word for word, i in self.src_vocab_to_idx.items()}\n",
    "        self.src_vocab_size = len(src_vocab)\n",
    "        \n",
    "        # Build target vocabulary\n",
    "        tgt_vocab = set(chain.from_iterable(tgt_tokenized))\n",
    "        self.tgt_vocab_to_idx = {word: i for i, word in enumerate(tgt_vocab)}\n",
    "        self.tgt_idx_to_vocab = {i: word for word, i in self.tgt_vocab_to_idx.items()}\n",
    "        self.tgt_vocab_size = len(tgt_vocab)\n",
    "        \n",
    "        # Calculate max lengths\n",
    "        self.max_src_len_actual = max(len(s) for s in src_tokenized)\n",
    "        self.max_tgt_len_actual = max(len(s) for s in tgt_tokenized)\n",
    "        \n",
    "        # Use provided max lengths if specified\n",
    "        if self.max_src_len is not None:\n",
    "            self.max_src_len_actual = min(self.max_src_len_actual, self.max_src_len)\n",
    "        if self.max_tgt_len is not None:\n",
    "            self.max_tgt_len_actual = min(self.max_tgt_len_actual, self.max_tgt_len)\n",
    "            \n",
    "        return src_tokenized, tgt_tokenized\n",
    "    \n",
    "    def encode_sentence(self, sentence: List[str], vocab_to_idx: Dict[str, int]) -> List[int]:\n",
    "        \"\"\"Encode a tokenized sentence to indices.\"\"\"\n",
    "        return [vocab_to_idx.get(word, vocab_to_idx.get(self.src_tokenizer.unk_token, 0)) \n",
    "                for word in sentence]\n",
    "    \n",
    "    def pad_sequence(self, seq: List[int], max_len: int, pad_idx: int = 0) -> List[int]:\n",
    "        \"\"\"Pad a sequence to the specified length.\"\"\"\n",
    "        return seq + [pad_idx] * (max_len - len(seq))\n",
    "    \n",
    "    def preprocess_data(self, raw_data: List[str]) -> Tuple[List[List[int]], List[List[int]]]:\n",
    "        \"\"\"\n",
    "        Preprocess raw translation data.\n",
    "        \n",
    "        Args:\n",
    "            raw_data: List of tab-separated translation pairs\n",
    "            \n",
    "        Returns:\n",
    "            Tuple of (encoded_src_sentences, encoded_tgt_sentences)\n",
    "        \"\"\"\n",
    "        # Clean the data\n",
    "        clean_pairs = [self.clean_translation_pair(line) for line in raw_data]\n",
    "        clean_pairs = [pair for pair in clean_pairs if pair is not None]\n",
    "        \n",
    "        # Split into source and target\n",
    "        src_sentences = [pair[0] for pair in clean_pairs]\n",
    "        tgt_sentences = [pair[1] for pair in clean_pairs]\n",
    "        \n",
    "        # Build vocabularies and tokenize\n",
    "        src_tokenized, tgt_tokenized = self.build_vocabularies(src_sentences, tgt_sentences)\n",
    "        \n",
    "        # Encode sentences\n",
    "        src_encoded = [self.encode_sentence(sent, self.src_vocab_to_idx) for sent in src_tokenized]\n",
    "        tgt_encoded = [self.encode_sentence(sent, self.tgt_vocab_to_idx) for sent in tgt_tokenized]\n",
    "        \n",
    "        # Pad sequences\n",
    "        src_padded = [self.pad_sequence(sent, self.max_src_len_actual) for sent in src_encoded]\n",
    "        tgt_padded = [self.pad_sequence(sent, self.max_tgt_len_actual) for sent in tgt_encoded]\n",
    "        \n",
    "        return src_padded, tgt_padded\n",
    "    \n",
    "    def get_vocab_info(self) -> Dict:\n",
    "        \"\"\"Get vocabulary information.\"\"\"\n",
    "        return {\n",
    "            'src_vocab_size': self.src_vocab_size,\n",
    "            'tgt_vocab_size': self.tgt_vocab_size,\n",
    "            'max_src_len': self.max_src_len_actual,\n",
    "            'max_tgt_len': self.max_tgt_len_actual,\n",
    "            'src_vocab_to_idx': self.src_vocab_to_idx,\n",
    "            'tgt_vocab_to_idx': self.tgt_vocab_to_idx,\n",
    "            'src_idx_to_vocab': self.src_idx_to_vocab,\n",
    "            'tgt_idx_to_vocab': self.tgt_idx_to_vocab\n",
    "        }\n"
   ]
  },
  {
   "cell_type": "markdown",
   "metadata": {},
   "source": [
    "## Full dataset object"
   ]
  },
  {
   "cell_type": "code",
   "execution_count": 9,
   "metadata": {},
   "outputs": [],
   "source": [
    "class TranslationDataset(Dataset):\n",
    "    \"\"\"PyTorch Dataset for translation data.\"\"\"\n",
    "    \n",
    "    def __init__(self, src_data: List[List[int]], tgt_data: List[List[int]]):\n",
    "        self.src_data = src_data\n",
    "        self.tgt_data = tgt_data\n",
    "        \n",
    "    def __len__(self):\n",
    "        return len(self.src_data)\n",
    "    \n",
    "    def __getitem__(self, idx):\n",
    "        return torch.tensor(self.src_data[idx]), torch.tensor(self.tgt_data[idx])\n"
   ]
  },
  {
   "cell_type": "markdown",
   "metadata": {
    "id": "OtUBZ07ccZ5R"
   },
   "source": [
    "## Standard Model"
   ]
  },
  {
   "cell_type": "code",
   "execution_count": 10,
   "metadata": {
    "executionInfo": {
     "elapsed": 14,
     "status": "ok",
     "timestamp": 1751767481322,
     "user": {
      "displayName": "William Cable",
      "userId": "04663351666127960465"
     },
     "user_tz": -600
    },
    "id": "FXO2Hf7IcZ5S"
   },
   "outputs": [],
   "source": [
    "class PositionalEncoding(nn.Module):\n",
    "    def __init__(self, d_model, dropout=0.1, max_len=5000):\n",
    "        super().__init__()\n",
    "        self.dropout = nn.Dropout(dropout)\n",
    "        pe = torch.zeros(max_len, d_model)\n",
    "        pos = torch.arange(0, max_len).unsqueeze(1)\n",
    "        div_term = torch.exp(torch.arange(0, d_model, 2) * -math.log(10000.0) / d_model)\n",
    "        pe[:, 0::2] = torch.sin(pos * div_term)\n",
    "        pe[:, 1::2] = torch.cos(pos * div_term)\n",
    "        self.register_buffer('pe', pe.unsqueeze(0))\n",
    "\n",
    "    def forward(self, x):\n",
    "        return self.dropout(x + self.pe[:, :x.size(1)])\n"
   ]
  },
  {
   "cell_type": "code",
   "execution_count": 11,
   "metadata": {
    "executionInfo": {
     "elapsed": 38,
     "status": "ok",
     "timestamp": 1751767482233,
     "user": {
      "displayName": "William Cable",
      "userId": "04663351666127960465"
     },
     "user_tz": -600
    },
    "id": "r4qNq9bAcZ5S"
   },
   "outputs": [],
   "source": [
    "class Seq2SeqTransformer(nn.Module):\n",
    "    def __init__(self, num_encoder_layers, num_decoder_layers, emb_size, nhead,\n",
    "                 src_vocab_size, tgt_vocab_size, dim_feedforward=512, dropout=0.1):\n",
    "        super().__init__()\n",
    "        self.src_tok_emb = nn.Embedding(src_vocab_size, emb_size)\n",
    "        self.tgt_tok_emb = nn.Embedding(tgt_vocab_size, emb_size)\n",
    "        self.positional_encoding = PositionalEncoding(emb_size, dropout)\n",
    "\n",
    "        self.transformer = nn.Transformer(d_model=emb_size, nhead=nhead,\n",
    "                                          num_encoder_layers=num_encoder_layers,\n",
    "                                          num_decoder_layers=num_decoder_layers,\n",
    "                                          dim_feedforward=dim_feedforward,\n",
    "                                          dropout=dropout)\n",
    "        self.generator = nn.Linear(emb_size, tgt_vocab_size)\n",
    "\n",
    "    def forward(self, src, tgt, src_mask, tgt_mask, src_pad_mask, tgt_pad_mask, mem_pad_mask):\n",
    "        src_emb = self.positional_encoding(self.src_tok_emb(src))\n",
    "        tgt_emb = self.positional_encoding(self.tgt_tok_emb(tgt))\n",
    "        out = self.transformer(src_emb, tgt_emb, src_mask, tgt_mask,\n",
    "                               None, src_pad_mask, tgt_pad_mask, mem_pad_mask)\n",
    "        return self.generator(out)\n"
   ]
  },
  {
   "cell_type": "code",
   "execution_count": 12,
   "metadata": {
    "executionInfo": {
     "elapsed": 25,
     "status": "ok",
     "timestamp": 1751767483074,
     "user": {
      "displayName": "William Cable",
      "userId": "04663351666127960465"
     },
     "user_tz": -600
    },
    "id": "TQMEmg9ScZ5S"
   },
   "outputs": [],
   "source": [
    "def generate_square_subsequent_mask(sz, device):\n",
    "    return torch.triu(torch.full((sz, sz), float('-inf'), device=device), 1)\n",
    "\n",
    "def create_mask(src, tgt, pad_idx=0):\n",
    "    src_seq_len = src.size(0)\n",
    "    tgt_seq_len = tgt.size(0)\n",
    "    device = src.device  # assume both src and tgt are on the same device\n",
    "\n",
    "    tgt_mask = generate_square_subsequent_mask(tgt_seq_len, device)\n",
    "    src_mask = torch.zeros((src_seq_len, src_seq_len), device=device).type(torch.bool)\n",
    "\n",
    "    src_padding_mask = (src == pad_idx).transpose(0, 1)\n",
    "    tgt_padding_mask = (tgt == pad_idx).transpose(0, 1)\n",
    "\n",
    "    return src_mask, tgt_mask, src_padding_mask, tgt_padding_mask"
   ]
  },
  {
   "cell_type": "markdown",
   "metadata": {
    "id": "_33YYkdUcZ5T"
   },
   "source": [
    "## Training loop"
   ]
  },
  {
   "cell_type": "code",
   "execution_count": 19,
   "metadata": {
    "executionInfo": {
     "elapsed": 8,
     "status": "ok",
     "timestamp": 1751767490321,
     "user": {
      "displayName": "William Cable",
      "userId": "04663351666127960465"
     },
     "user_tz": -600
    },
    "id": "MHSvj9KwcZ5T"
   },
   "outputs": [],
   "source": [
    "def train_model(model, dataloader, optimizer, loss_fn, num_epochs, pad_idx=0, device='cpu'):\n",
    "    model.to(device)\n",
    "    model.train()\n",
    "    losses = []\n",
    "\n",
    "    writer = torch.utils.tensorboard.SummaryWriter(f'runs/{MODEL_NAME}')\n",
    "    \n",
    "\n",
    "    for epoch in range(num_epochs):\n",
    "        total_loss = 0\n",
    "        print(f\"Starting epoch {epoch}\")\n",
    "        dl_len = len(dataloader)\n",
    "        i = 1\n",
    "\n",
    "        for eng_batch, spa_batch in dataloader:\n",
    "            print(f\"\\rStarting {i}/{dl_len}\", end=\"\")\n",
    "            i += 1\n",
    "            eng_batch = eng_batch.transpose(0, 1).to(device) \n",
    "            spa_batch = spa_batch.transpose(0, 1).to(device) \n",
    "\n",
    "            tgt_input = spa_batch[:-1, :]\n",
    "            tgt_output = spa_batch[1:, :]\n",
    "\n",
    "            src_mask, tgt_mask, src_pad_mask, tgt_pad_mask = create_mask(eng_batch, tgt_input, pad_idx)\n",
    "\n",
    "            logits = model(\n",
    "                eng_batch,\n",
    "                tgt_input,\n",
    "                src_mask,\n",
    "                tgt_mask,\n",
    "                src_pad_mask,\n",
    "                tgt_pad_mask,\n",
    "                src_pad_mask  # memory padding mask\n",
    "            )\n",
    "\n",
    "            optimizer.zero_grad()\n",
    "\n",
    "            # Flatten predictions and targets\n",
    "            logits_flat = logits.reshape(-1, logits.shape[-1])\n",
    "            tgt_output_flat = tgt_output.reshape(-1)\n",
    "\n",
    "            loss = loss_fn(logits_flat, tgt_output_flat)\n",
    "            loss.backward()\n",
    "            optimizer.step()\n",
    "\n",
    "            total_loss += loss.item()\n",
    "        \n",
    "            writer.add_scalar('Loss/train', loss.item(), epoch)\n",
    "        \n",
    "\n",
    "        avg_loss = total_loss / len(dataloader)\n",
    "        print(f\"Epoch {epoch + 1}/{num_epochs} — Loss: {avg_loss:.4f}\")\n",
    "        \n",
    "        losses.append(avg_loss)\n",
    "\n",
    "    writer.close()\n",
    "    os.makedirs('./models', exist_ok=True)\n",
    "    torch.save(model.state_dict(), f'./models/{MODEL_NAME}.pth')\n",
    "\n",
    "    return losses\n",
    "\n",
    "    \n"
   ]
  },
  {
   "cell_type": "markdown",
   "metadata": {},
   "source": [
    "## Create Instances"
   ]
  },
  {
   "cell_type": "code",
   "execution_count": 17,
   "metadata": {},
   "outputs": [],
   "source": [
    "#Data\n",
    "\n",
    "text_path = get_text_path(FILE_NAME)\n",
    "\n",
    "with open(text_path, encoding=\"utf-8\") as f:\n",
    "    lines = f.read().strip().split(\"\\n\")[:1000]\n",
    "\n",
    "preprocessor = TranslationPreprocessor(\n",
    "    src_tokenizer=SimpleWordTokenizer(),\n",
    "    tgt_tokenizer=SimpleWordTokenizer()\n",
    ")\n",
    "\n",
    "src_data, tgt_data = preprocessor.preprocess_data(lines)\n",
    "dataset = TranslationDataset(src_data, tgt_data)\n",
    "dl = DataLoader(dataset, batch_size=BATCH_SIZE, shuffle=True)\n",
    "\n",
    "src_vocab_size = preprocessor.src_vocab_size\n",
    "tgt_vocab_size = preprocessor.tgt_vocab_size"
   ]
  },
  {
   "cell_type": "markdown",
   "metadata": {},
   "source": [
    "## Github interact"
   ]
  },
  {
   "cell_type": "code",
   "execution_count": null,
   "metadata": {},
   "outputs": [],
   "source": [
    "def upload_to_github(local_path, repo_path, token, username=\"WillCable97\", repo=\"HomemadeTransformer\", branch=\"main\"):\n",
    "    \n",
    "    with open(local_path, \"rb\") as f:\n",
    "        content = base64.b64encode(f.read()).decode(\"utf-8\")\n",
    "\n",
    "    url = f\"https://api.github.com/repos/{username}/{repo}/contents/{repo_path}\"\n",
    "    data = {\n",
    "        \"message\": f\"Upload {repo_path} from Colab\",\n",
    "        \"content\": content,\n",
    "        \"branch\": branch\n",
    "    }\n",
    "    headers = {\"Authorization\": f\"token {token}\"}\n",
    "    r = requests.put(url, headers=headers, json=data)\n",
    "    if r.status_code == 201:\n",
    "        print(f\"✅ Uploaded {repo_path} to GitHub\")\n",
    "    else:\n",
    "        print(f\"❌ Failed to upload {repo_path} — {r.status_code}: {r.json()}\")"
   ]
  },
  {
   "cell_type": "markdown",
   "metadata": {},
   "source": [
    "## Training"
   ]
  },
  {
   "cell_type": "code",
   "execution_count": 18,
   "metadata": {
    "colab": {
     "base_uri": "https://localhost:8080/"
    },
    "executionInfo": {
     "elapsed": 530310,
     "status": "ok",
     "timestamp": 1751768025121,
     "user": {
      "displayName": "William Cable",
      "userId": "04663351666127960465"
     },
     "user_tz": -600
    },
    "id": "FCwVbyWBcZ5T",
    "outputId": "1bac3405-2569-4c00-b4e2-d314ad31e519"
   },
   "outputs": [
    {
     "name": "stderr",
     "output_type": "stream",
     "text": [
      "c:\\Users\\willi\\Desktop\\AIPortfolio\\HomemadeTransformer\\venv\\Lib\\site-packages\\torch\\nn\\modules\\transformer.py:382: UserWarning: enable_nested_tensor is True, but self.use_nested_tensor is False because encoder_layer.self_attn.batch_first was not True(use batch_first for better inference performance)\n",
      "  warnings.warn(\n",
      "c:\\Users\\willi\\Desktop\\AIPortfolio\\HomemadeTransformer\\venv\\Lib\\site-packages\\torch\\nn\\functional.py:5962: UserWarning: Support for mismatched key_padding_mask and attn_mask is deprecated. Use same type for both instead.\n",
      "  warnings.warn(\n"
     ]
    },
    {
     "name": "stdout",
     "output_type": "stream",
     "text": [
      "Starting epoch 0\n",
      "Starting 32/32Epoch 1/10 — Loss: 5.0918\n",
      "Starting epoch 1\n",
      "Starting 32/32Epoch 2/10 — Loss: 4.5318\n",
      "Starting epoch 2\n",
      "Starting 32/32Epoch 3/10 — Loss: 4.2425\n",
      "Starting epoch 3\n",
      "Starting 32/32Epoch 4/10 — Loss: 3.8748\n",
      "Starting epoch 4\n",
      "Starting 32/32Epoch 5/10 — Loss: 3.5315\n",
      "Starting epoch 5\n",
      "Starting 32/32Epoch 6/10 — Loss: 3.2472\n",
      "Starting epoch 6\n",
      "Starting 32/32Epoch 7/10 — Loss: 3.0047\n",
      "Starting epoch 7\n",
      "Starting 32/32Epoch 8/10 — Loss: 2.7472\n",
      "Starting epoch 8\n",
      "Starting 32/32Epoch 9/10 — Loss: 2.5391\n",
      "Starting epoch 9\n",
      "Starting 32/32Epoch 10/10 — Loss: 2.3051\n",
      "Model weights saved to model_weights.pth\n"
     ]
    }
   ],
   "source": [
    "#Model\n",
    "model = Seq2SeqTransformer(\n",
    "    num_encoder_layers=LAYERS,\n",
    "    num_decoder_layers=LAYERS,\n",
    "    emb_size=EMB_SIZE,\n",
    "    nhead=HEADS,\n",
    "    src_vocab_size=src_vocab_size,\n",
    "    tgt_vocab_size=tgt_vocab_size,\n",
    ")\n",
    "\n",
    "optimizer = torch.optim.Adam(model.parameters(), lr=0.0005)\n",
    "loss_fn = nn.CrossEntropyLoss(ignore_index=0)\n",
    "\n",
    "# Train it\n",
    "losses = train_model(model, dl, optimizer, loss_fn, num_epochs=EPOCHS, pad_idx=0, device=DEVICE)\n",
    "\n",
    "if IS_COLAB:\n",
    "    #Save Log file\n",
    "    log_dir= Path(F\"./runs/{MODEL_NAME}\")\n",
    "    latest_event_file = max(log_dir.glob(\"events.out.tfevents.*\"), key=lambda f: f.stat().st_mtime, default=None)\n",
    "    upload_to_github(latest_event_file,\n",
    "                      f\"./notebooks/runs/{MODEL_NAME}/{latest_event_file.name}\"\n",
    "                      , GH_TOKEN)\n",
    "    \n",
    "    #Do the model\n",
    "    upload_to_github(f\"./models/{MODEL_NAME}.pth\",\n",
    "                      f\"./notebooks/models/{MODEL_NAME}.pth\"\n",
    "                      , GH_TOKEN)"
   ]
  },
  {
   "cell_type": "code",
   "execution_count": null,
   "metadata": {},
   "outputs": [],
   "source": []
  },
  {
   "cell_type": "code",
   "execution_count": 25,
   "metadata": {},
   "outputs": [],
   "source": []
  },
  {
   "cell_type": "code",
   "execution_count": 26,
   "metadata": {},
   "outputs": [],
   "source": []
  },
  {
   "cell_type": "code",
   "execution_count": null,
   "metadata": {},
   "outputs": [],
   "source": []
  },
  {
   "cell_type": "code",
   "execution_count": 29,
   "metadata": {},
   "outputs": [
    {
     "data": {
      "text/plain": [
       "'events.out.tfevents.1751837683.Wills_PC.16068.3'"
      ]
     },
     "execution_count": 29,
     "metadata": {},
     "output_type": "execute_result"
    }
   ],
   "source": [
    "latest_event_file.name"
   ]
  },
  {
   "cell_type": "code",
   "execution_count": null,
   "metadata": {},
   "outputs": [],
   "source": []
  },
  {
   "cell_type": "code",
   "execution_count": 18,
   "metadata": {
    "colab": {
     "base_uri": "https://localhost:8080/",
     "height": 211
    },
    "executionInfo": {
     "elapsed": 62,
     "status": "error",
     "timestamp": 1751792752151,
     "user": {
      "displayName": "William Cable",
      "userId": "04663351666127960465"
     },
     "user_tz": -600
    },
    "id": "UClVgdSxcZ5U",
    "outputId": "c989f0e2-3560-49fd-ca0d-e55be29e4864"
   },
   "outputs": [
    {
     "data": {
      "image/png": "[encoded data removed]",
      "text/plain": [
       "<Figure size 640x480 with 1 Axes>"
      ]
     },
     "metadata": {},
     "output_type": "display_data"
    }
   ],
   "source": [
    "import matplotlib.pyplot as plt\n",
    "\n",
    "plt.plot(losses)\n",
    "plt.title(\"Training Loss Over Epochs\")\n",
    "plt.xlabel(\"Epoch\")\n",
    "plt.ylabel(\"Loss\")\n",
    "plt.grid(True)\n",
    "plt.show()\n"
   ]
  },
  {
   "cell_type": "code",
   "execution_count": null,
   "metadata": {
    "id": "38bXRPvIcZ5U"
   },
   "outputs": [],
   "source": []
  },
  {
   "cell_type": "code",
   "execution_count": null,
   "metadata": {
    "id": "qAaU7EVacZ5U"
   },
   "outputs": [],
   "source": [
    "def greedy_decode(model, src_sentence, src_vocab, tgt_vocab, ind_to_word_spa, max_len=50, device='cuda'):\n",
    "    model.eval()\n",
    "\n",
    "    sos_token = tgt_vocab[\"<SOS>\"]\n",
    "    eos_token = tgt_vocab[\"<EOS>\"]\n",
    "    pad_token = tgt_vocab.get(\"<PAD>\", 0)\n",
    "\n",
    "    # Encode source sentence\n",
    "    tokens = [\"<SOS>\"] + src_sentence.lower().strip().split() + [\"<EOS>\"]\n",
    "    src_indices = [src_vocab.get(tok, src_vocab.get(\"<UNK>\", 0)) for tok in tokens]\n",
    "    src_tensor = torch.tensor(src_indices).unsqueeze(1).to(device)  # [seq_len, 1]\n",
    "    src_mask = torch.zeros((src_tensor.size(0), src_tensor.size(0)), device=device).type(torch.bool)\n",
    "\n",
    "    # Encoder output\n",
    "    src_emb = model.positional_encoding(model.src_tok_emb(src_tensor))\n",
    "    memory = model.transformer.encoder(src_emb, src_mask)\n",
    "\n",
    "    # Start decoding with <SOS>\n",
    "    tgt_indices = [sos_token]\n",
    "    for _ in range(max_len):\n",
    "        tgt_tensor = torch.tensor(tgt_indices).unsqueeze(1).to(device)\n",
    "        tgt_mask = generate_square_subsequent_mask(tgt_tensor.size(0), 'cuda')#s.to(device)\n",
    "\n",
    "        tgt_emb = model.positional_encoding(model.tgt_tok_emb(tgt_tensor))\n",
    "        out = model.transformer.decoder(tgt_emb, memory, tgt_mask)\n",
    "        out = model.generator(out)\n",
    "\n",
    "        next_token = out[-1].argmax(-1).item()\n",
    "\n",
    "        if next_token == eos_token:\n",
    "            break\n",
    "\n",
    "        tgt_indices.append(next_token)\n",
    "\n",
    "    decoded = [ind_to_word_spa.get(idx, \"\") for idx in tgt_indices[1:]]  # skip SOS\n",
    "    return \" \".join(decoded)\n"
   ]
  },
  {
   "cell_type": "code",
   "execution_count": null,
   "metadata": {
    "id": "clSl2tVwcZ5U"
   },
   "outputs": [],
   "source": [
    "def translate(eng_sentence, model, src_vocab, tgt_vocab, ind_to_word_spa):\n",
    "    return greedy_decode(model, eng_sentence, src_vocab, tgt_vocab, ind_to_word_spa)\n"
   ]
  },
  {
   "cell_type": "code",
   "execution_count": null,
   "metadata": {
    "colab": {
     "base_uri": "https://localhost:8080/",
     "height": 289
    },
    "executionInfo": {
     "elapsed": 55,
     "status": "error",
     "timestamp": 1751539268109,
     "user": {
      "displayName": "William Cable",
      "userId": "04663351666127960465"
     },
     "user_tz": -600
    },
    "id": "ci0rPksOcZ5U",
    "outputId": "cde8b044-68fc-4687-aeab-fc9952e6cc21"
   },
   "outputs": [
    {
     "ename": "NameError",
     "evalue": "name 'translate' is not defined",
     "output_type": "error",
     "traceback": [
      "\u001b[0;31m---------------------------------------------------------------------------\u001b[0m",
      "\u001b[0;31mNameError\u001b[0m                                 Traceback (most recent call last)",
      "\u001b[0;32m/tmp/ipython-input-1-4093756756.py\u001b[0m in \u001b[0;36m<cell line: 0>\u001b[0;34m()\u001b[0m\n\u001b[0;32m----> 1\u001b[0;31m \u001b[0mprint\u001b[0m\u001b[0;34m(\u001b[0m\u001b[0mtranslate\u001b[0m\u001b[0;34m(\u001b[0m\u001b[0;34m\"I'm very excited to have dinner with you\"\u001b[0m\u001b[0;34m,\u001b[0m \u001b[0mmodel\u001b[0m\u001b[0;34m,\u001b[0m \u001b[0mvocab_to_ind_eng\u001b[0m\u001b[0;34m,\u001b[0m \u001b[0mvocab_to_ind_spa\u001b[0m\u001b[0;34m,\u001b[0m \u001b[0mind_to_word_spa\u001b[0m\u001b[0;34m)\u001b[0m\u001b[0;34m)\u001b[0m\u001b[0;34m\u001b[0m\u001b[0;34m\u001b[0m\u001b[0m\n\u001b[0m",
      "\u001b[0;31mNameError\u001b[0m: name 'translate' is not defined"
     ]
    }
   ],
   "source": [
    "print(translate(\"I'm very excited to have dinner with you\", model, vocab_to_ind_eng, vocab_to_ind_spa, ind_to_word_spa))"
   ]
  },
  {
   "cell_type": "code",
   "execution_count": null,
   "metadata": {
    "id": "6lzFURBUcZ5X"
   },
   "outputs": [],
   "source": []
  },
  {
   "cell_type": "code",
   "execution_count": null,
   "metadata": {
    "id": "LqnJa7UpcZ5Y"
   },
   "outputs": [],
   "source": []
  },
  {
   "cell_type": "code",
   "execution_count": null,
   "metadata": {
    "id": "ToGWwYpMcZ5Y"
   },
   "outputs": [],
   "source": []
  },
  {
   "cell_type": "code",
   "execution_count": null,
   "metadata": {
    "id": "wiMOD0RRcZ5Z"
   },
   "outputs": [],
   "source": []
  }
 ],
 "metadata": {
  "accelerator": "GPU",
  "colab": {
   "gpuType": "L4",
   "machine_shape": "hm",
   "provenance": []
  },
  "kernelspec": {
   "display_name": "venv",
   "language": "python",
   "name": "python3"
  },
  "language_info": {
   "codemirror_mode": {
    "name": "ipython",
    "version": 3
   },
   "file_extension": ".py",
   "mimetype": "text/x-python",
   "name": "python",
   "nbconvert_exporter": "python",
   "pygments_lexer": "ipython3",
   "version": "3.11.4"
  }
 },
 "nbformat": 4,
 "nbformat_minor": 0
}
